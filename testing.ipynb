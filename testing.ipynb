{
 "cells": [
  {
   "cell_type": "code",
   "execution_count": 1,
   "metadata": {},
   "outputs": [
    {
     "name": "stderr",
     "output_type": "stream",
     "text": [
      "/Users/bisramr/tensorflow-metal/lib/python3.10/site-packages/pydub/utils.py:170: RuntimeWarning: Couldn't find ffmpeg or avconv - defaulting to ffmpeg, but may not work\n",
      "  warn(\"Couldn't find ffmpeg or avconv - defaulting to ffmpeg, but may not work\", RuntimeWarning)\n"
     ]
    }
   ],
   "source": [
    "from preprocessing import generate_dataset, create_batch_2"
   ]
  },
  {
   "cell_type": "code",
   "execution_count": 2,
   "metadata": {},
   "outputs": [
    {
     "name": "stdout",
     "output_type": "stream",
     "text": [
      "Hello\n",
      "Elapsed: 0.7514519691467285\n",
      "1 1\n",
      "(1025, 469)\n",
      "(240000,)\n"
     ]
    }
   ],
   "source": [
    "data, encoder = generate_dataset()\n",
    "x, y, raw_x = create_batch_2(data.iloc[0:1])\n",
    "print(len(x), len(y))\n",
    "print(x[0].shape)\n",
    "print(raw_x[0].shape)"
   ]
  },
  {
   "cell_type": "code",
   "execution_count": 5,
   "metadata": {},
   "outputs": [
    {
     "name": "stdout",
     "output_type": "stream",
     "text": [
      "[ 2.9971956e-14 -1.7440859e-14 -6.5299017e-14 ... -3.1254869e-02\n",
      " -1.1425308e-01 -1.2577167e-01]\n",
      "(240000,)\n"
     ]
    }
   ],
   "source": [
    "print(raw_x[0])\n",
    "print(raw_x[0].shape)"
   ]
  }
 ],
 "metadata": {
  "kernelspec": {
   "display_name": "Python 3.10.6 ('tensorflow-metal')",
   "language": "python",
   "name": "python3"
  },
  "language_info": {
   "codemirror_mode": {
    "name": "ipython",
    "version": 3
   },
   "file_extension": ".py",
   "mimetype": "text/x-python",
   "name": "python",
   "nbconvert_exporter": "python",
   "pygments_lexer": "ipython3",
   "version": "3.10.6"
  },
  "orig_nbformat": 4,
  "vscode": {
   "interpreter": {
    "hash": "8cb3f970edcee8cb5b87b188c4c9539854f72a7c2b4d7860930ec7985dcd0979"
   }
  }
 },
 "nbformat": 4,
 "nbformat_minor": 2
}
