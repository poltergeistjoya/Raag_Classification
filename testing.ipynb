{
 "cells": [
  {
   "cell_type": "code",
   "execution_count": 59,
   "metadata": {},
   "outputs": [
    {
     "name": "stdout",
     "output_type": "stream",
     "text": [
      "The autoreload extension is already loaded. To reload it, use:\n",
      "  %reload_ext autoreload\n"
     ]
    }
   ],
   "source": [
    "%load_ext autoreload\n",
    "%reload_ext autoreload\n",
    "%autoreload 2\n"
   ]
  },
  {
   "cell_type": "code",
   "execution_count": 60,
   "metadata": {},
   "outputs": [],
   "source": [
    "from preprocessing import generate_dataset, create_batch_2\n"
   ]
  },
  {
   "cell_type": "code",
   "execution_count": 61,
   "metadata": {},
   "outputs": [
    {
     "name": "stdout",
     "output_type": "stream",
     "text": [
      "Skipping raga: Adana malhar, not enough data\n",
      "Skipping raga: Ambika, not enough data\n",
      "Skipping raga: Amrit varshini, not enough data\n",
      "Skipping raga: Anand malhar, not enough data\n",
      "Skipping raga: Arabhi, not enough data\n",
      "Skipping raga: Asa mand, not enough data\n",
      "Skipping raga: Ashta raga malika, not enough data\n",
      "Skipping raga: Bahaduri todi, not enough data\n",
      "                                             File path    Raga  \\\n",
      "0    ./raga-data/Abhogi/Ajoy Chakrabarty - Raag Abh...  Abhogi   \n",
      "1    ./raga-data/Abhogi/Anol Chatterjee - Raag Abho...  Abhogi   \n",
      "2    ./raga-data/Abhogi/Bhimsen Joshi - Rag Abhogi ...  Abhogi   \n",
      "3    ./raga-data/Abhogi/Bhimsen Joshi - Rag Abhogi ...  Abhogi   \n",
      "4    ./raga-data/Abhogi/Bhimsen Joshi - Rag Abhogi ...  Abhogi   \n",
      "..                                                 ...     ...   \n",
      "222  ./raga-data/Yaman/Veena Sahasrabuddhe - Deo da...   Yaman   \n",
      "223  ./raga-data/Yaman/Veena Sahasrabuddhe - Peeyar...   Yaman   \n",
      "224  ./raga-data/Yaman/Veena Sahasrabuddhe - Tana d...   Yaman   \n",
      "225  ./raga-data/Yaman/Veena Sahasrabuddhe - Unacco...   Yaman   \n",
      "226    ./raga-data/Yaman/Vilayat Khan - Raga Yaman.mp3   Yaman   \n",
      "\n",
      "                                          Raga One-Hot  \n",
      "0    [1.0, 0.0, 0.0, 0.0, 0.0, 0.0, 0.0, 0.0, 0.0, ...  \n",
      "1    [1.0, 0.0, 0.0, 0.0, 0.0, 0.0, 0.0, 0.0, 0.0, ...  \n",
      "2    [1.0, 0.0, 0.0, 0.0, 0.0, 0.0, 0.0, 0.0, 0.0, ...  \n",
      "3    [1.0, 0.0, 0.0, 0.0, 0.0, 0.0, 0.0, 0.0, 0.0, ...  \n",
      "4    [1.0, 0.0, 0.0, 0.0, 0.0, 0.0, 0.0, 0.0, 0.0, ...  \n",
      "..                                                 ...  \n",
      "222  [0.0, 0.0, 0.0, 0.0, 0.0, 0.0, 0.0, 0.0, 0.0, ...  \n",
      "223  [0.0, 0.0, 0.0, 0.0, 0.0, 0.0, 0.0, 0.0, 0.0, ...  \n",
      "224  [0.0, 0.0, 0.0, 0.0, 0.0, 0.0, 0.0, 0.0, 0.0, ...  \n",
      "225  [0.0, 0.0, 0.0, 0.0, 0.0, 0.0, 0.0, 0.0, 0.0, ...  \n",
      "226  [0.0, 0.0, 0.0, 0.0, 0.0, 0.0, 0.0, 0.0, 0.0, ...  \n",
      "\n",
      "[227 rows x 3 columns]\n"
     ]
    }
   ],
   "source": [
    "data, encoder = generate_dataset()\n",
    "#x, y, raw_x = create_batch_2(data.iloc[0:1])\n",
    "#print(len(x), len(y))\n",
    "#print(x[0].shape)\n",
    "#print(raw_x[0].shape)\n",
    "print(data)\n",
    "# display(data[['File path', 'Raga']].to_string())"
   ]
  },
  {
   "cell_type": "code",
   "execution_count": 62,
   "metadata": {},
   "outputs": [
    {
     "name": "stderr",
     "output_type": "stream",
     "text": [
      "WARNING:root:[MemorizedFunc(func=<function create_batch_2 at 0x00000193AD8345E0>, location=.cache\\joblib)]: Clearing function cache identified by preprocessing\\create_batch_2\n"
     ]
    },
    {
     "name": "stdout",
     "output_type": "stream",
     "text": [
      "________________________________________________________________________________\n",
      "[Memory] Calling preprocessing.create_batch_2...\n",
      "create_batch_2(                                           File path    Raga  \\\n",
      "0  ./raga-data/Abhogi/Ajoy Chakrabarty - Raag Abh...  Abhogi   \n",
      "1  ./raga-data/Abhogi/Anol Chatterjee - Raag Abho...  Abhogi   \n",
      "2  ./raga-data/Abhogi/Bhimsen Joshi - Rag Abhogi ...  Abhogi   \n",
      "3  ./raga-data/Abhogi/Bhimsen Joshi - Rag Abhogi ...  Abhogi   \n",
      "4  ./raga-data/Abhogi/Bhimsen Joshi - Rag Abhogi ...  Abhogi   \n",
      "5  ./raga-data/Abhogi/Bhimsen Joshi - Raga Abhogi...  Abhogi   \n",
      "\n",
      "                                        Raga One-Hot  \n",
      "0  [1.0, 0.0, 0.0, 0.0, 0.0, 0.0, 0.0, 0.0, 0.0, ...  \n",
      "1  [1.0, 0.0, 0.0, 0.0, 0.0, 0.0, 0.0, 0.0, 0.0, ...  \n",
      "2  [1.0, 0.0, 0.0, 0.0, 0.0, 0.0, 0.0, 0.0, 0.0, ...  \n",
      "3  [1.0, 0.0, 0.0, 0.0, 0.0, 0.0, 0.0, 0.0, 0.0, ...  \n",
      "4  [1.0, 0.0, 0.0, 0.0, 0.0, 0.0, 0.0, 0.0, 0.0, ...  \n",
      "5  [1.0, 0.0, 0.0, 0.0, 0.0, 0.0, 0.0, 0.0, 0.0, ...  , use_chroma=True)\n",
      "Elapsed: 179.75\n",
      "Elapsed: 86.27\n",
      "Elapsed: 10.13\n",
      "Elapsed: 13.87\n",
      "Elapsed: 46.73\n",
      "Elapsed: 17.05\n",
      "_________________________________________________create_batch_2 - 354.4s, 5.9min\n"
     ]
    }
   ],
   "source": [
    "x, y = create_batch_2(data.iloc[0:6], use_chroma = True)"
   ]
  },
  {
   "cell_type": "code",
   "execution_count": 16,
   "metadata": {},
   "outputs": [
    {
     "name": "stdout",
     "output_type": "stream",
     "text": [
      "[1. 0.]\n"
     ]
    },
    {
     "ename": "TypeError",
     "evalue": "list indices must be integers or slices, not str",
     "output_type": "error",
     "traceback": [
      "\u001b[1;31m---------------------------------------------------------------------------\u001b[0m",
      "\u001b[1;31mTypeError\u001b[0m                                 Traceback (most recent call last)",
      "Cell \u001b[1;32mIn[16], line 4\u001b[0m\n\u001b[0;32m      1\u001b[0m \u001b[39m# print(x['mels'][0])\u001b[39;00m\n\u001b[0;32m      2\u001b[0m \u001b[39m# print(x['chromas'][0])\u001b[39;00m\n\u001b[0;32m      3\u001b[0m \u001b[39mprint\u001b[39m(y[\u001b[39m0\u001b[39m])\n\u001b[1;32m----> 4\u001b[0m \u001b[39mprint\u001b[39m(\u001b[39mlen\u001b[39m(x[\u001b[39m'\u001b[39;49m\u001b[39mmels\u001b[39;49m\u001b[39m'\u001b[39;49m]), \u001b[39mlen\u001b[39m(x[\u001b[39m'\u001b[39m\u001b[39mchromas\u001b[39m\u001b[39m'\u001b[39m]), \u001b[39mlen\u001b[39m(y))\n\u001b[0;32m      5\u001b[0m \u001b[39mprint\u001b[39m(x[\u001b[39m'\u001b[39m\u001b[39mchromas\u001b[39m\u001b[39m'\u001b[39m][\u001b[39m0\u001b[39m]\u001b[39m.\u001b[39mshape, x[\u001b[39m'\u001b[39m\u001b[39mchromas\u001b[39m\u001b[39m'\u001b[39m][\u001b[39m2\u001b[39m]\u001b[39m.\u001b[39mshape)\n\u001b[0;32m      6\u001b[0m \u001b[39mprint\u001b[39m(x[\u001b[39m'\u001b[39m\u001b[39mchromas\u001b[39m\u001b[39m'\u001b[39m][\u001b[39m0\u001b[39m][\u001b[39m0\u001b[39m]\u001b[39m.\u001b[39mshape)\n",
      "\u001b[1;31mTypeError\u001b[0m: list indices must be integers or slices, not str"
     ]
    }
   ],
   "source": [
    "# print(x['mels'][0])\n",
    "# print(x['chromas'][0])\n",
    "print(y[0])\n",
    "print(len(x['mels']), len(x['chromas']), len(y))\n",
    "print(x['chromas'][0].shape, x['chromas'][2].shape)\n",
    "print(x['chromas'][0][0].shape)\n",
    "print(x['chromas'][1][0].shape)\n",
    "\n"
   ]
  },
  {
   "cell_type": "code",
   "execution_count": 14,
   "metadata": {},
   "outputs": [],
   "source": [
    "import librosa\n",
    "import matplotlib.pyplot as plt\n"
   ]
  },
  {
   "cell_type": "code",
   "execution_count": 18,
   "metadata": {},
   "outputs": [
    {
     "data": {
      "image/png": "[encoded data removed]",
      "text/plain": [
       "<Figure size 640x480 with 4 Axes>"
      ]
     },
     "metadata": {},
     "output_type": "display_data"
    }
   ],
   "source": [
    "fig, ax = plt.subplots(nrows=2, sharex=True)\n",
    "img = librosa.display.specshow(x['chromas'][0][0], y_axis='chroma', x_axis='time', ax=ax[0])\n",
    "fig.colorbar(img, ax=[ax[0]])\n",
    "\n",
    "img = librosa.display.specshow(x['chromas'][1][0], y_axis='chroma', x_axis='time', ax=ax[1])\n",
    "fig.colorbar(img, ax=[ax[1]])\n",
    "plt.show()\n"
   ]
  },
  {
   "cell_type": "code",
   "execution_count": 21,
   "metadata": {},
   "outputs": [
    {
     "name": "stdout",
     "output_type": "stream",
     "text": [
      "44100\n",
      "44100\n",
      "44100\n",
      "44100\n",
      "44100\n",
      "44100\n",
      "44100\n",
      "44100\n",
      "44100\n",
      "44100\n",
      "44100\n",
      "44100\n",
      "44100\n",
      "44100\n",
      "44100\n",
      "44100\n",
      "44100\n",
      "44100\n",
      "44100\n",
      "44100\n",
      "44100\n",
      "44100\n",
      "44100\n",
      "44100\n",
      "44100\n",
      "44100\n",
      "44100\n",
      "44100\n",
      "44100\n",
      "44100\n",
      "44100\n",
      "44100\n",
      "44100\n",
      "44100\n",
      "44100\n",
      "44100\n",
      "44100\n",
      "44100\n",
      "44100\n",
      "44100\n",
      "44100\n",
      "44100\n",
      "44100\n",
      "44100\n",
      "44100\n",
      "44100\n",
      "44100\n",
      "44100\n",
      "44100\n",
      "44100\n",
      "44100\n",
      "44100\n",
      "44100\n",
      "44100\n",
      "44100\n",
      "44100\n",
      "44100\n",
      "44100\n",
      "44100\n",
      "44100\n",
      "44100\n",
      "44100\n",
      "44100\n",
      "44100\n",
      "44100\n",
      "44100\n",
      "44100\n",
      "44100\n",
      "44100\n",
      "44100\n",
      "44100\n",
      "44100\n",
      "44100\n",
      "44100\n",
      "44100\n",
      "44100\n"
     ]
    },
    {
     "ename": "EOFError",
     "evalue": "",
     "output_type": "error",
     "traceback": [
      "\u001b[0;31m---------------------------------------------------------------------------\u001b[0m",
      "\u001b[0;31mLibsndfileError\u001b[0m                           Traceback (most recent call last)",
      "File \u001b[0;32m~/tensorflow-metal/lib/python3.10/site-packages/librosa/core/audio.py:743\u001b[0m, in \u001b[0;36mget_duration\u001b[0;34m(y, sr, S, n_fft, hop_length, center, filename)\u001b[0m\n\u001b[1;32m    742\u001b[0m \u001b[39mtry\u001b[39;00m:\n\u001b[0;32m--> 743\u001b[0m     \u001b[39mreturn\u001b[39;00m sf\u001b[39m.\u001b[39;49minfo(filename)\u001b[39m.\u001b[39mduration\n\u001b[1;32m    744\u001b[0m \u001b[39mexcept\u001b[39;00m \u001b[39mRuntimeError\u001b[39;00m:\n",
      "File \u001b[0;32m~/tensorflow-metal/lib/python3.10/site-packages/soundfile.py:464\u001b[0m, in \u001b[0;36minfo\u001b[0;34m(file, verbose)\u001b[0m\n\u001b[1;32m    457\u001b[0m \u001b[39m\"\"\"Returns an object with information about a `SoundFile`.\u001b[39;00m\n\u001b[1;32m    458\u001b[0m \n\u001b[1;32m    459\u001b[0m \u001b[39mParameters\u001b[39;00m\n\u001b[0;32m   (...)\u001b[0m\n\u001b[1;32m    462\u001b[0m \u001b[39m    Whether to print additional information.\u001b[39;00m\n\u001b[1;32m    463\u001b[0m \u001b[39m\"\"\"\u001b[39;00m\n\u001b[0;32m--> 464\u001b[0m \u001b[39mreturn\u001b[39;00m _SoundFileInfo(file, verbose)\n",
      "File \u001b[0;32m~/tensorflow-metal/lib/python3.10/site-packages/soundfile.py:409\u001b[0m, in \u001b[0;36m_SoundFileInfo.__init__\u001b[0;34m(self, file, verbose)\u001b[0m\n\u001b[1;32m    408\u001b[0m \u001b[39mself\u001b[39m\u001b[39m.\u001b[39mverbose \u001b[39m=\u001b[39m verbose\n\u001b[0;32m--> 409\u001b[0m \u001b[39mwith\u001b[39;00m SoundFile(file) \u001b[39mas\u001b[39;00m f:\n\u001b[1;32m    410\u001b[0m     \u001b[39mself\u001b[39m\u001b[39m.\u001b[39mname \u001b[39m=\u001b[39m f\u001b[39m.\u001b[39mname\n",
      "File \u001b[0;32m~/tensorflow-metal/lib/python3.10/site-packages/soundfile.py:655\u001b[0m, in \u001b[0;36mSoundFile.__init__\u001b[0;34m(self, file, mode, samplerate, channels, subtype, endian, format, closefd)\u001b[0m\n\u001b[1;32m    653\u001b[0m \u001b[39mself\u001b[39m\u001b[39m.\u001b[39m_info \u001b[39m=\u001b[39m _create_info_struct(file, mode, samplerate, channels,\n\u001b[1;32m    654\u001b[0m                                  \u001b[39mformat\u001b[39m, subtype, endian)\n\u001b[0;32m--> 655\u001b[0m \u001b[39mself\u001b[39m\u001b[39m.\u001b[39m_file \u001b[39m=\u001b[39m \u001b[39mself\u001b[39;49m\u001b[39m.\u001b[39;49m_open(file, mode_int, closefd)\n\u001b[1;32m    656\u001b[0m \u001b[39mif\u001b[39;00m \u001b[39mset\u001b[39m(mode)\u001b[39m.\u001b[39missuperset(\u001b[39m'\u001b[39m\u001b[39mr+\u001b[39m\u001b[39m'\u001b[39m) \u001b[39mand\u001b[39;00m \u001b[39mself\u001b[39m\u001b[39m.\u001b[39mseekable():\n\u001b[1;32m    657\u001b[0m     \u001b[39m# Move write position to 0 (like in Python file objects)\u001b[39;00m\n",
      "File \u001b[0;32m~/tensorflow-metal/lib/python3.10/site-packages/soundfile.py:1213\u001b[0m, in \u001b[0;36mSoundFile._open\u001b[0;34m(self, file, mode_int, closefd)\u001b[0m\n\u001b[1;32m   1212\u001b[0m     err \u001b[39m=\u001b[39m _snd\u001b[39m.\u001b[39msf_error(file_ptr)\n\u001b[0;32m-> 1213\u001b[0m     \u001b[39mraise\u001b[39;00m LibsndfileError(err, prefix\u001b[39m=\u001b[39m\u001b[39m\"\u001b[39m\u001b[39mError opening \u001b[39m\u001b[39m{0!r}\u001b[39;00m\u001b[39m: \u001b[39m\u001b[39m\"\u001b[39m\u001b[39m.\u001b[39mformat(\u001b[39mself\u001b[39m\u001b[39m.\u001b[39mname))\n\u001b[1;32m   1214\u001b[0m \u001b[39mif\u001b[39;00m mode_int \u001b[39m==\u001b[39m _snd\u001b[39m.\u001b[39mSFM_WRITE:\n\u001b[1;32m   1215\u001b[0m     \u001b[39m# Due to a bug in libsndfile version <= 1.0.25, frames != 0\u001b[39;00m\n\u001b[1;32m   1216\u001b[0m     \u001b[39m# when opening a named pipe in SFM_WRITE mode.\u001b[39;00m\n\u001b[1;32m   1217\u001b[0m     \u001b[39m# See http://github.com/erikd/libsndfile/issues/77.\u001b[39;00m\n",
      "\u001b[0;31mLibsndfileError\u001b[0m: Error opening './raga-data/Yaman/tsefefe.txt': Format not recognised.",
      "\nDuring handling of the above exception, another exception occurred:\n",
      "\u001b[0;31mEOFError\u001b[0m                                  Traceback (most recent call last)",
      "Cell \u001b[0;32mIn [21], line 3\u001b[0m\n\u001b[1;32m      1\u001b[0m \u001b[39mfor\u001b[39;00m index, audiofile \u001b[39min\u001b[39;00m data\u001b[39m.\u001b[39miterrows():\n\u001b[1;32m      2\u001b[0m     filename \u001b[39m=\u001b[39m audiofile[\u001b[39m'\u001b[39m\u001b[39mFile path\u001b[39m\u001b[39m'\u001b[39m]\n\u001b[0;32m----> 3\u001b[0m     file_length \u001b[39m=\u001b[39m \u001b[39mround\u001b[39m(librosa\u001b[39m.\u001b[39;49mget_duration(filename \u001b[39m=\u001b[39;49m audiofile[\u001b[39m'\u001b[39;49m\u001b[39mFile path\u001b[39;49m\u001b[39m'\u001b[39;49m]), \u001b[39m0\u001b[39m)\n\u001b[1;32m      5\u001b[0m     sr \u001b[39m=\u001b[39m librosa\u001b[39m.\u001b[39mget_samplerate(filename)\n\u001b[1;32m      6\u001b[0m     \u001b[39mprint\u001b[39m(sr)\n",
      "File \u001b[0;32m~/tensorflow-metal/lib/python3.10/site-packages/librosa/util/decorators.py:88\u001b[0m, in \u001b[0;36mdeprecate_positional_args.<locals>._inner_deprecate_positional_args.<locals>.inner_f\u001b[0;34m(*args, **kwargs)\u001b[0m\n\u001b[1;32m     86\u001b[0m extra_args \u001b[39m=\u001b[39m \u001b[39mlen\u001b[39m(args) \u001b[39m-\u001b[39m \u001b[39mlen\u001b[39m(all_args)\n\u001b[1;32m     87\u001b[0m \u001b[39mif\u001b[39;00m extra_args \u001b[39m<\u001b[39m\u001b[39m=\u001b[39m \u001b[39m0\u001b[39m:\n\u001b[0;32m---> 88\u001b[0m     \u001b[39mreturn\u001b[39;00m f(\u001b[39m*\u001b[39;49margs, \u001b[39m*\u001b[39;49m\u001b[39m*\u001b[39;49mkwargs)\n\u001b[1;32m     90\u001b[0m \u001b[39m# extra_args > 0\u001b[39;00m\n\u001b[1;32m     91\u001b[0m args_msg \u001b[39m=\u001b[39m [\n\u001b[1;32m     92\u001b[0m     \u001b[39m\"\u001b[39m\u001b[39m{}\u001b[39;00m\u001b[39m=\u001b[39m\u001b[39m{}\u001b[39;00m\u001b[39m\"\u001b[39m\u001b[39m.\u001b[39mformat(name, arg)\n\u001b[1;32m     93\u001b[0m     \u001b[39mfor\u001b[39;00m name, arg \u001b[39min\u001b[39;00m \u001b[39mzip\u001b[39m(kwonly_args[:extra_args], args[\u001b[39m-\u001b[39mextra_args:])\n\u001b[1;32m     94\u001b[0m ]\n",
      "File \u001b[0;32m~/tensorflow-metal/lib/python3.10/site-packages/librosa/core/audio.py:745\u001b[0m, in \u001b[0;36mget_duration\u001b[0;34m(y, sr, S, n_fft, hop_length, center, filename)\u001b[0m\n\u001b[1;32m    743\u001b[0m         \u001b[39mreturn\u001b[39;00m sf\u001b[39m.\u001b[39minfo(filename)\u001b[39m.\u001b[39mduration\n\u001b[1;32m    744\u001b[0m     \u001b[39mexcept\u001b[39;00m \u001b[39mRuntimeError\u001b[39;00m:\n\u001b[0;32m--> 745\u001b[0m         \u001b[39mwith\u001b[39;00m audioread\u001b[39m.\u001b[39;49maudio_open(filename) \u001b[39mas\u001b[39;00m fdesc:\n\u001b[1;32m    746\u001b[0m             \u001b[39mreturn\u001b[39;00m fdesc\u001b[39m.\u001b[39mduration\n\u001b[1;32m    748\u001b[0m \u001b[39mif\u001b[39;00m y \u001b[39mis\u001b[39;00m \u001b[39mNone\u001b[39;00m:\n",
      "File \u001b[0;32m~/tensorflow-metal/lib/python3.10/site-packages/audioread/__init__.py:127\u001b[0m, in \u001b[0;36maudio_open\u001b[0;34m(path, backends)\u001b[0m\n\u001b[1;32m    125\u001b[0m \u001b[39mfor\u001b[39;00m BackendClass \u001b[39min\u001b[39;00m backends:\n\u001b[1;32m    126\u001b[0m     \u001b[39mtry\u001b[39;00m:\n\u001b[0;32m--> 127\u001b[0m         \u001b[39mreturn\u001b[39;00m BackendClass(path)\n\u001b[1;32m    128\u001b[0m     \u001b[39mexcept\u001b[39;00m DecodeError:\n\u001b[1;32m    129\u001b[0m         \u001b[39mpass\u001b[39;00m\n",
      "File \u001b[0;32m~/tensorflow-metal/lib/python3.10/site-packages/audioread/rawread.py:62\u001b[0m, in \u001b[0;36mRawAudioFile.__init__\u001b[0;34m(self, filename)\u001b[0m\n\u001b[1;32m     59\u001b[0m \u001b[39mself\u001b[39m\u001b[39m.\u001b[39m_fh \u001b[39m=\u001b[39m \u001b[39mopen\u001b[39m(filename, \u001b[39m'\u001b[39m\u001b[39mrb\u001b[39m\u001b[39m'\u001b[39m)\n\u001b[1;32m     61\u001b[0m \u001b[39mtry\u001b[39;00m:\n\u001b[0;32m---> 62\u001b[0m     \u001b[39mself\u001b[39m\u001b[39m.\u001b[39m_file \u001b[39m=\u001b[39m aifc\u001b[39m.\u001b[39;49mopen(\u001b[39mself\u001b[39;49m\u001b[39m.\u001b[39;49m_fh)\n\u001b[1;32m     63\u001b[0m \u001b[39mexcept\u001b[39;00m aifc\u001b[39m.\u001b[39mError:\n\u001b[1;32m     64\u001b[0m     \u001b[39m# Return to the beginning of the file to try the next reader.\u001b[39;00m\n\u001b[1;32m     65\u001b[0m     \u001b[39mself\u001b[39m\u001b[39m.\u001b[39m_fh\u001b[39m.\u001b[39mseek(\u001b[39m0\u001b[39m)\n",
      "File \u001b[0;32m~/miniforge3/lib/python3.10/aifc.py:917\u001b[0m, in \u001b[0;36mopen\u001b[0;34m(f, mode)\u001b[0m\n\u001b[1;32m    915\u001b[0m         mode \u001b[39m=\u001b[39m \u001b[39m'\u001b[39m\u001b[39mrb\u001b[39m\u001b[39m'\u001b[39m\n\u001b[1;32m    916\u001b[0m \u001b[39mif\u001b[39;00m mode \u001b[39min\u001b[39;00m (\u001b[39m'\u001b[39m\u001b[39mr\u001b[39m\u001b[39m'\u001b[39m, \u001b[39m'\u001b[39m\u001b[39mrb\u001b[39m\u001b[39m'\u001b[39m):\n\u001b[0;32m--> 917\u001b[0m     \u001b[39mreturn\u001b[39;00m Aifc_read(f)\n\u001b[1;32m    918\u001b[0m \u001b[39melif\u001b[39;00m mode \u001b[39min\u001b[39;00m (\u001b[39m'\u001b[39m\u001b[39mw\u001b[39m\u001b[39m'\u001b[39m, \u001b[39m'\u001b[39m\u001b[39mwb\u001b[39m\u001b[39m'\u001b[39m):\n\u001b[1;32m    919\u001b[0m     \u001b[39mreturn\u001b[39;00m Aifc_write(f)\n",
      "File \u001b[0;32m~/miniforge3/lib/python3.10/aifc.py:358\u001b[0m, in \u001b[0;36mAifc_read.__init__\u001b[0;34m(self, f)\u001b[0m\n\u001b[1;32m    355\u001b[0m         \u001b[39mraise\u001b[39;00m\n\u001b[1;32m    356\u001b[0m \u001b[39melse\u001b[39;00m:\n\u001b[1;32m    357\u001b[0m     \u001b[39m# assume it is an open file object already\u001b[39;00m\n\u001b[0;32m--> 358\u001b[0m     \u001b[39mself\u001b[39;49m\u001b[39m.\u001b[39;49minitfp(f)\n",
      "File \u001b[0;32m~/miniforge3/lib/python3.10/aifc.py:314\u001b[0m, in \u001b[0;36mAifc_read.initfp\u001b[0;34m(self, file)\u001b[0m\n\u001b[1;32m    312\u001b[0m \u001b[39mself\u001b[39m\u001b[39m.\u001b[39m_soundpos \u001b[39m=\u001b[39m \u001b[39m0\u001b[39m\n\u001b[1;32m    313\u001b[0m \u001b[39mself\u001b[39m\u001b[39m.\u001b[39m_file \u001b[39m=\u001b[39m file\n\u001b[0;32m--> 314\u001b[0m chunk \u001b[39m=\u001b[39m Chunk(file)\n\u001b[1;32m    315\u001b[0m \u001b[39mif\u001b[39;00m chunk\u001b[39m.\u001b[39mgetname() \u001b[39m!=\u001b[39m \u001b[39mb\u001b[39m\u001b[39m'\u001b[39m\u001b[39mFORM\u001b[39m\u001b[39m'\u001b[39m:\n\u001b[1;32m    316\u001b[0m     \u001b[39mraise\u001b[39;00m Error(\u001b[39m'\u001b[39m\u001b[39mfile does not start with FORM id\u001b[39m\u001b[39m'\u001b[39m)\n",
      "File \u001b[0;32m~/miniforge3/lib/python3.10/chunk.py:63\u001b[0m, in \u001b[0;36mChunk.__init__\u001b[0;34m(self, file, align, bigendian, inclheader)\u001b[0m\n\u001b[1;32m     61\u001b[0m \u001b[39mself\u001b[39m\u001b[39m.\u001b[39mchunkname \u001b[39m=\u001b[39m file\u001b[39m.\u001b[39mread(\u001b[39m4\u001b[39m)\n\u001b[1;32m     62\u001b[0m \u001b[39mif\u001b[39;00m \u001b[39mlen\u001b[39m(\u001b[39mself\u001b[39m\u001b[39m.\u001b[39mchunkname) \u001b[39m<\u001b[39m \u001b[39m4\u001b[39m:\n\u001b[0;32m---> 63\u001b[0m     \u001b[39mraise\u001b[39;00m \u001b[39mEOFError\u001b[39;00m\n\u001b[1;32m     64\u001b[0m \u001b[39mtry\u001b[39;00m:\n\u001b[1;32m     65\u001b[0m     \u001b[39mself\u001b[39m\u001b[39m.\u001b[39mchunksize \u001b[39m=\u001b[39m struct\u001b[39m.\u001b[39munpack_from(strflag\u001b[39m+\u001b[39m\u001b[39m'\u001b[39m\u001b[39mL\u001b[39m\u001b[39m'\u001b[39m, file\u001b[39m.\u001b[39mread(\u001b[39m4\u001b[39m))[\u001b[39m0\u001b[39m]\n",
      "\u001b[0;31mEOFError\u001b[0m: "
     ]
    }
   ],
   "source": [
    "for index, audiofile in data.iterrows():\n",
    "    filename = audiofile['File path']\n",
    "    file_length = round(librosa.get_duration(filename = audiofile['File path']), 0)\n",
    "\n",
    "    sr = librosa.get_samplerate(filename)\n",
    "    print(sr)"
   ]
  },
  {
   "cell_type": "code",
   "execution_count": 6,
   "metadata": {},
   "outputs": [],
   "source": [
    "x_2, y_2 = create_batch_2(data.iloc[0:6], use_chroma = False)"
   ]
  },
  {
   "cell_type": "code",
   "execution_count": 7,
   "metadata": {},
   "outputs": [
    {
     "name": "stdout",
     "output_type": "stream",
     "text": [
      "(128, 1023)\n",
      "(128, 1023)\n",
      "(128, 1023)\n",
      "(128, 1023)\n",
      "(128, 1023)\n",
      "(128, 1023)\n",
      "(128, 1023)\n",
      "439\n"
     ]
    }
   ],
   "source": [
    "for i in range(6):\n",
    "    print(x_2[i].shape)\n",
    "\n",
    "print(x_2[348].shape)\n",
    "print(len(x_2))"
   ]
  },
  {
   "cell_type": "code",
   "execution_count": 12,
   "metadata": {},
   "outputs": [
    {
     "name": "stdout",
     "output_type": "stream",
     "text": [
      "[['Bageshree']]\n",
      "[['Bageshree']]\n",
      "[['Bageshree']]\n",
      "[['Bageshree']]\n",
      "[[1. 0.]]\n",
      "<class 'numpy.ndarray'>\n"
     ]
    },
    {
     "data": {
      "text/plain": [
       "array([[1., 0.]])"
      ]
     },
     "execution_count": 12,
     "metadata": {},
     "output_type": "execute_result"
    }
   ],
   "source": [
    "print(encoder.inverse_transform(y_2[341].reshape(1, -1)))\n",
    "print(encoder.inverse_transform(y_2[200].reshape(1, -1)))\n",
    "print(encoder.inverse_transform(y_2[0].reshape(1, -1)))\n",
    "print(encoder.inverse_transform(y_2[100].reshape(1, -1)))\n",
    "\n",
    "print(y_2[100].reshape(1, -1))\n",
    "print(type(y_2[100]))\n",
    "y_2[341].reshape(1, -1)\n"
   ]
  },
  {
   "cell_type": "code",
   "execution_count": 20,
   "metadata": {},
   "outputs": [
    {
     "name": "stdout",
     "output_type": "stream",
     "text": [
      "[0.39 0.07 0.59 0.88 0.13 0.1  0.9  0.74 0.94 0.45 0.68 0.2  0.63 0.27\n",
      " 0.61 0.38 0.71 0.85 0.82 0.13 0.05 0.77 0.66]\n",
      "[ 8  6  3 17 18 21  7 16 10 22 12 14  2  9  0 15 13 11  4 19  5  1 20]\n",
      "[0. 0. 0. 0. 0. 0. 0. 0. 1. 0. 0. 0. 0. 0. 0. 0. 0. 0. 0. 0. 0. 0. 0.]\n",
      "Amrit varshini 0.94\n",
      "[0. 0. 0. 0. 0. 0. 1. 0. 0. 0. 0. 0. 0. 0. 0. 0. 0. 0. 0. 0. 0. 0. 0.]\n",
      "Alahiya bilawal 0.9\n",
      "[0. 0. 0. 1. 0. 0. 0. 0. 0. 0. 0. 0. 0. 0. 0. 0. 0. 0. 0. 0. 0. 0. 0.]\n",
      "Ahir bhairav 0.88\n",
      "[0. 0. 0. 0. 0. 0. 0. 0. 0. 0. 0. 0. 0. 0. 0. 0. 0. 1. 0. 0. 0. 0. 0.]\n",
      "Basant 0.85\n",
      "[0. 0. 0. 0. 0. 0. 0. 0. 0. 0. 0. 0. 0. 0. 0. 0. 0. 0. 1. 0. 0. 0. 0.]\n",
      "Kafi 0.82\n",
      "[0. 0. 0. 0. 0. 0. 0. 0. 0. 0. 0. 0. 0. 0. 0. 0. 0. 0. 0. 0. 0. 1. 0.]\n",
      "Todi 0.77\n"
     ]
    }
   ],
   "source": [
    "import numpy as np\n",
    "sample = np.round(np.array([0.1, 0.5, 0.3, 0.1]), decimals = 2)\n",
    "sample2 = np.round(np.random.rand(23), decimals = 2)\n",
    "\n",
    "indices = (-sample2).argsort()[:len(sample2)]\n",
    "print(sample2)\n",
    "print(indices)\n",
    "# print((-sample2).argsort()[:len(sample2)])\n",
    "\n",
    "def output_2_rankings(logits, encoder, num_display = 5):\n",
    "    indices = (-logits).argsort()[:len(logits)]\n",
    "    for i, index in enumerate(indices):\n",
    "        one_hot = np.zeros(23)\n",
    "        one_hot[index] = 1\n",
    "        print(one_hot)\n",
    "        print(encoder.inverse_transform(one_hot.reshape(1, -1))[0][0], logits[index])\n",
    "\n",
    "        if i == 5:\n",
    "            break\n",
    "\n",
    "output_2_rankings(sample2, encoder, num_display = 5)"
   ]
  },
  {
   "cell_type": "code",
   "execution_count": 22,
   "metadata": {},
   "outputs": [
    {
     "name": "stdout",
     "output_type": "stream",
     "text": [
      "23\n"
     ]
    }
   ],
   "source": [
    "print(len(y[0]))"
   ]
  }
 ],
 "metadata": {
  "kernelspec": {
   "display_name": "venv",
   "language": "python",
   "name": "python3"
  },
  "language_info": {
   "codemirror_mode": {
    "name": "ipython",
    "version": 3
   },
   "file_extension": ".py",
   "mimetype": "text/x-python",
   "name": "python",
   "nbconvert_exporter": "python",
   "pygments_lexer": "ipython3",
   "version": "3.8.2"
  },
  "orig_nbformat": 4,
  "vscode": {
   "interpreter": {
    "hash": "e2d2b91c9627f4c1d7713a12462f14e230b0bec1c90b0a1536aab04e8c228a89"
   }
  }
 },
 "nbformat": 4,
 "nbformat_minor": 2
}
